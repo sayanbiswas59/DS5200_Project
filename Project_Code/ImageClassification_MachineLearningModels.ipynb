{
 "cells": [
  {
   "cell_type": "code",
   "execution_count": 1,
   "metadata": {},
   "outputs": [],
   "source": [
    "import pandas as pd\n",
    "import numpy as np\n",
    "from PIL import Image\n",
    "import matplotlib.pyplot as plt\n",
    "from matplotlib import image\n",
    "import cv2\n",
    "from sklearn.model_selection import train_test_split\n",
    "from sklearn import tree\n",
    "from sklearn.preprocessing import LabelEncoder\n",
    "\n",
    "%matplotlib inline"
   ]
  },
  {
   "cell_type": "code",
   "execution_count": 2,
   "metadata": {},
   "outputs": [],
   "source": [
    "df = pd.read_csv(\"/Users/snehaagarwal/Desktop/SML/Project/MURA-v1.1/train_image_paths.csv\",names=[\"image_path\"])"
   ]
  },
  {
   "cell_type": "code",
   "execution_count": 3,
   "metadata": {},
   "outputs": [],
   "source": [
    "df_test = pd.read_csv(\"/Users/snehaagarwal/Desktop/SML/Project/MURA-v1.1/valid_image_paths.csv\",names=[\"image_path\"])"
   ]
  },
  {
   "cell_type": "code",
   "execution_count": 4,
   "metadata": {},
   "outputs": [
    {
     "data": {
      "text/html": [
       "<div>\n",
       "<style scoped>\n",
       "    .dataframe tbody tr th:only-of-type {\n",
       "        vertical-align: middle;\n",
       "    }\n",
       "\n",
       "    .dataframe tbody tr th {\n",
       "        vertical-align: top;\n",
       "    }\n",
       "\n",
       "    .dataframe thead th {\n",
       "        text-align: right;\n",
       "    }\n",
       "</style>\n",
       "<table border=\"1\" class=\"dataframe\">\n",
       "  <thead>\n",
       "    <tr style=\"text-align: right;\">\n",
       "      <th></th>\n",
       "      <th>image_path</th>\n",
       "      <th>Region</th>\n",
       "      <th>Label</th>\n",
       "    </tr>\n",
       "  </thead>\n",
       "  <tbody>\n",
       "    <tr>\n",
       "      <td>0</td>\n",
       "      <td>MURA-v1.1/train/XR_SHOULDER/patient00001/study...</td>\n",
       "      <td>SHOULDER</td>\n",
       "      <td>positive</td>\n",
       "    </tr>\n",
       "    <tr>\n",
       "      <td>1</td>\n",
       "      <td>MURA-v1.1/train/XR_SHOULDER/patient00001/study...</td>\n",
       "      <td>SHOULDER</td>\n",
       "      <td>positive</td>\n",
       "    </tr>\n",
       "    <tr>\n",
       "      <td>2</td>\n",
       "      <td>MURA-v1.1/train/XR_SHOULDER/patient00001/study...</td>\n",
       "      <td>SHOULDER</td>\n",
       "      <td>positive</td>\n",
       "    </tr>\n",
       "    <tr>\n",
       "      <td>3</td>\n",
       "      <td>MURA-v1.1/train/XR_SHOULDER/patient00002/study...</td>\n",
       "      <td>SHOULDER</td>\n",
       "      <td>positive</td>\n",
       "    </tr>\n",
       "    <tr>\n",
       "      <td>4</td>\n",
       "      <td>MURA-v1.1/train/XR_SHOULDER/patient00002/study...</td>\n",
       "      <td>SHOULDER</td>\n",
       "      <td>positive</td>\n",
       "    </tr>\n",
       "    <tr>\n",
       "      <td>...</td>\n",
       "      <td>...</td>\n",
       "      <td>...</td>\n",
       "      <td>...</td>\n",
       "    </tr>\n",
       "    <tr>\n",
       "      <td>36803</td>\n",
       "      <td>MURA-v1.1/train/XR_HAND/patient11183/study1_ne...</td>\n",
       "      <td>HAND</td>\n",
       "      <td>negative</td>\n",
       "    </tr>\n",
       "    <tr>\n",
       "      <td>36804</td>\n",
       "      <td>MURA-v1.1/train/XR_HAND/patient11183/study1_ne...</td>\n",
       "      <td>HAND</td>\n",
       "      <td>negative</td>\n",
       "    </tr>\n",
       "    <tr>\n",
       "      <td>36805</td>\n",
       "      <td>MURA-v1.1/train/XR_HAND/patient11184/study1_ne...</td>\n",
       "      <td>HAND</td>\n",
       "      <td>negative</td>\n",
       "    </tr>\n",
       "    <tr>\n",
       "      <td>36806</td>\n",
       "      <td>MURA-v1.1/train/XR_HAND/patient11184/study1_ne...</td>\n",
       "      <td>HAND</td>\n",
       "      <td>negative</td>\n",
       "    </tr>\n",
       "    <tr>\n",
       "      <td>36807</td>\n",
       "      <td>MURA-v1.1/train/XR_HAND/patient11184/study1_ne...</td>\n",
       "      <td>HAND</td>\n",
       "      <td>negative</td>\n",
       "    </tr>\n",
       "  </tbody>\n",
       "</table>\n",
       "<p>36808 rows × 3 columns</p>\n",
       "</div>"
      ],
      "text/plain": [
       "                                              image_path    Region     Label\n",
       "0      MURA-v1.1/train/XR_SHOULDER/patient00001/study...  SHOULDER  positive\n",
       "1      MURA-v1.1/train/XR_SHOULDER/patient00001/study...  SHOULDER  positive\n",
       "2      MURA-v1.1/train/XR_SHOULDER/patient00001/study...  SHOULDER  positive\n",
       "3      MURA-v1.1/train/XR_SHOULDER/patient00002/study...  SHOULDER  positive\n",
       "4      MURA-v1.1/train/XR_SHOULDER/patient00002/study...  SHOULDER  positive\n",
       "...                                                  ...       ...       ...\n",
       "36803  MURA-v1.1/train/XR_HAND/patient11183/study1_ne...      HAND  negative\n",
       "36804  MURA-v1.1/train/XR_HAND/patient11183/study1_ne...      HAND  negative\n",
       "36805  MURA-v1.1/train/XR_HAND/patient11184/study1_ne...      HAND  negative\n",
       "36806  MURA-v1.1/train/XR_HAND/patient11184/study1_ne...      HAND  negative\n",
       "36807  MURA-v1.1/train/XR_HAND/patient11184/study1_ne...      HAND  negative\n",
       "\n",
       "[36808 rows x 3 columns]"
      ]
     },
     "execution_count": 4,
     "metadata": {},
     "output_type": "execute_result"
    }
   ],
   "source": [
    "df['Region'] = df[\"image_path\"].map(lambda x: x.split('/')[-4])\n",
    "df[\"Region\"] = df[\"Region\"].map(lambda x: x.split('XR_')[-1])\n",
    "df[\"Label\"] = df[\"image_path\"].map(lambda x: x.split('/')[-2])\n",
    "df[\"Label\"] = df[\"Label\"].map(lambda x: x.split('_')[-1])\n",
    "df"
   ]
  },
  {
   "cell_type": "code",
   "execution_count": 6,
   "metadata": {},
   "outputs": [
    {
     "data": {
      "text/html": [
       "<div>\n",
       "<style scoped>\n",
       "    .dataframe tbody tr th:only-of-type {\n",
       "        vertical-align: middle;\n",
       "    }\n",
       "\n",
       "    .dataframe tbody tr th {\n",
       "        vertical-align: top;\n",
       "    }\n",
       "\n",
       "    .dataframe thead th {\n",
       "        text-align: right;\n",
       "    }\n",
       "</style>\n",
       "<table border=\"1\" class=\"dataframe\">\n",
       "  <thead>\n",
       "    <tr style=\"text-align: right;\">\n",
       "      <th></th>\n",
       "      <th>image_path</th>\n",
       "      <th>Region</th>\n",
       "      <th>Label</th>\n",
       "    </tr>\n",
       "  </thead>\n",
       "  <tbody>\n",
       "    <tr>\n",
       "      <td>0</td>\n",
       "      <td>MURA-v1.1/valid/XR_WRIST/patient11185/study1_p...</td>\n",
       "      <td>WRIST</td>\n",
       "      <td>positive</td>\n",
       "    </tr>\n",
       "    <tr>\n",
       "      <td>1</td>\n",
       "      <td>MURA-v1.1/valid/XR_WRIST/patient11185/study1_p...</td>\n",
       "      <td>WRIST</td>\n",
       "      <td>positive</td>\n",
       "    </tr>\n",
       "    <tr>\n",
       "      <td>2</td>\n",
       "      <td>MURA-v1.1/valid/XR_WRIST/patient11185/study1_p...</td>\n",
       "      <td>WRIST</td>\n",
       "      <td>positive</td>\n",
       "    </tr>\n",
       "    <tr>\n",
       "      <td>3</td>\n",
       "      <td>MURA-v1.1/valid/XR_WRIST/patient11185/study1_p...</td>\n",
       "      <td>WRIST</td>\n",
       "      <td>positive</td>\n",
       "    </tr>\n",
       "    <tr>\n",
       "      <td>4</td>\n",
       "      <td>MURA-v1.1/valid/XR_WRIST/patient11186/study1_p...</td>\n",
       "      <td>WRIST</td>\n",
       "      <td>positive</td>\n",
       "    </tr>\n",
       "    <tr>\n",
       "      <td>...</td>\n",
       "      <td>...</td>\n",
       "      <td>...</td>\n",
       "      <td>...</td>\n",
       "    </tr>\n",
       "    <tr>\n",
       "      <td>3192</td>\n",
       "      <td>MURA-v1.1/valid/XR_FINGER/patient11967/study1_...</td>\n",
       "      <td>FINGER</td>\n",
       "      <td>negative</td>\n",
       "    </tr>\n",
       "    <tr>\n",
       "      <td>3193</td>\n",
       "      <td>MURA-v1.1/valid/XR_FINGER/patient11967/study1_...</td>\n",
       "      <td>FINGER</td>\n",
       "      <td>negative</td>\n",
       "    </tr>\n",
       "    <tr>\n",
       "      <td>3194</td>\n",
       "      <td>MURA-v1.1/valid/XR_FINGER/patient11738/study1_...</td>\n",
       "      <td>FINGER</td>\n",
       "      <td>negative</td>\n",
       "    </tr>\n",
       "    <tr>\n",
       "      <td>3195</td>\n",
       "      <td>MURA-v1.1/valid/XR_FINGER/patient11738/study1_...</td>\n",
       "      <td>FINGER</td>\n",
       "      <td>negative</td>\n",
       "    </tr>\n",
       "    <tr>\n",
       "      <td>3196</td>\n",
       "      <td>MURA-v1.1/valid/XR_FINGER/patient11738/study1_...</td>\n",
       "      <td>FINGER</td>\n",
       "      <td>negative</td>\n",
       "    </tr>\n",
       "  </tbody>\n",
       "</table>\n",
       "<p>3197 rows × 3 columns</p>\n",
       "</div>"
      ],
      "text/plain": [
       "                                             image_path  Region     Label\n",
       "0     MURA-v1.1/valid/XR_WRIST/patient11185/study1_p...   WRIST  positive\n",
       "1     MURA-v1.1/valid/XR_WRIST/patient11185/study1_p...   WRIST  positive\n",
       "2     MURA-v1.1/valid/XR_WRIST/patient11185/study1_p...   WRIST  positive\n",
       "3     MURA-v1.1/valid/XR_WRIST/patient11185/study1_p...   WRIST  positive\n",
       "4     MURA-v1.1/valid/XR_WRIST/patient11186/study1_p...   WRIST  positive\n",
       "...                                                 ...     ...       ...\n",
       "3192  MURA-v1.1/valid/XR_FINGER/patient11967/study1_...  FINGER  negative\n",
       "3193  MURA-v1.1/valid/XR_FINGER/patient11967/study1_...  FINGER  negative\n",
       "3194  MURA-v1.1/valid/XR_FINGER/patient11738/study1_...  FINGER  negative\n",
       "3195  MURA-v1.1/valid/XR_FINGER/patient11738/study1_...  FINGER  negative\n",
       "3196  MURA-v1.1/valid/XR_FINGER/patient11738/study1_...  FINGER  negative\n",
       "\n",
       "[3197 rows x 3 columns]"
      ]
     },
     "execution_count": 6,
     "metadata": {},
     "output_type": "execute_result"
    }
   ],
   "source": [
    "df_test['Region'] = df_test[\"image_path\"].map(lambda x: x.split('/')[-4])\n",
    "df_test[\"Region\"] = df_test[\"Region\"].map(lambda x: x.split('XR_')[-1])\n",
    "df_test[\"Label\"] = df_test[\"image_path\"].map(lambda x: x.split('/')[-2])\n",
    "df_test[\"Label\"] = df_test[\"Label\"].map(lambda x: x.split('_')[-1])\n",
    "df_test"
   ]
  },
  {
   "cell_type": "code",
   "execution_count": 7,
   "metadata": {},
   "outputs": [],
   "source": [
    "X = df[\"image_path\"]\n",
    "y = df[\"Region\"]"
   ]
  },
  {
   "cell_type": "code",
   "execution_count": 8,
   "metadata": {},
   "outputs": [],
   "source": [
    "X_train_path, X_valid_path, y_train, y_valid = train_test_split(X, y, test_size = 0.25,stratify=y, random_state = 57)"
   ]
  },
  {
   "cell_type": "code",
   "execution_count": 9,
   "metadata": {},
   "outputs": [],
   "source": [
    "X_train = list()\n",
    "for path in X_train_path:\n",
    "    img = cv2.imread(path,cv2.IMREAD_GRAYSCALE)   \n",
    "    X_train.append(cv2.resize(img,(224,224)))\n",
    "\n"
   ]
  },
  {
   "cell_type": "code",
   "execution_count": 10,
   "metadata": {},
   "outputs": [],
   "source": [
    "X_valid = list()\n",
    "for path in X_valid_path:\n",
    "    img = cv2.imread(path,cv2.IMREAD_GRAYSCALE)   \n",
    "    X_valid.append(cv2.resize(img,(224,224)))"
   ]
  },
  {
   "cell_type": "code",
   "execution_count": 11,
   "metadata": {},
   "outputs": [],
   "source": [
    "test_path = df_test[\"image_path\"]\n",
    "X_test = list()\n",
    "for path in test_path:\n",
    "    img = cv2.imread(path,cv2.IMREAD_GRAYSCALE)   \n",
    "    X_test.append(cv2.resize(img,(224,224)))"
   ]
  },
  {
   "cell_type": "code",
   "execution_count": 20,
   "metadata": {},
   "outputs": [
    {
     "name": "stdout",
     "output_type": "stream",
     "text": [
      "X_train shape: (27606, 224, 224)\n"
     ]
    }
   ],
   "source": [
    "X_train = np.array(X_train)\n",
    "print('X_train shape:', X_train.shape)"
   ]
  },
  {
   "cell_type": "code",
   "execution_count": 21,
   "metadata": {},
   "outputs": [
    {
     "name": "stdout",
     "output_type": "stream",
     "text": [
      "X_valid shape: (9202, 224, 224)\n"
     ]
    }
   ],
   "source": [
    "X_valid = np.array(X_valid)\n",
    "print('X_valid shape:', X_valid.shape)"
   ]
  },
  {
   "cell_type": "code",
   "execution_count": 22,
   "metadata": {},
   "outputs": [
    {
     "name": "stdout",
     "output_type": "stream",
     "text": [
      "X_test shape: (3197, 224, 224)\n"
     ]
    }
   ],
   "source": [
    "X_test = np.array(X_test)\n",
    "print('X_test shape:', X_test.shape)"
   ]
  },
  {
   "cell_type": "code",
   "execution_count": 23,
   "metadata": {},
   "outputs": [],
   "source": [
    "X_train_flatten = np.reshape(X_train,(X_train.shape[0], X_train.shape[1]*X_train.shape[2]))"
   ]
  },
  {
   "cell_type": "code",
   "execution_count": 24,
   "metadata": {},
   "outputs": [],
   "source": [
    "X_valid_flatten = np.reshape(X_valid,(X_valid.shape[0], X_valid.shape[1]*X_valid.shape[2]))"
   ]
  },
  {
   "cell_type": "code",
   "execution_count": 25,
   "metadata": {},
   "outputs": [],
   "source": [
    "X_test_flatten = np.reshape(X_test,(X_test.shape[0], X_test.shape[1]*X_test.shape[2]))"
   ]
  },
  {
   "cell_type": "code",
   "execution_count": 30,
   "metadata": {},
   "outputs": [],
   "source": [
    "labelencoder_y = LabelEncoder()\n",
    "y_train = labelencoder_y.fit_transform(y_train)\n",
    "y_train = np.reshape(y_train,(y_train.shape[0],1))"
   ]
  },
  {
   "cell_type": "code",
   "execution_count": 33,
   "metadata": {},
   "outputs": [
    {
     "data": {
      "text/plain": [
       "0        WRIST\n",
       "1        WRIST\n",
       "2        WRIST\n",
       "3        WRIST\n",
       "4        WRIST\n",
       "         ...  \n",
       "3192    FINGER\n",
       "3193    FINGER\n",
       "3194    FINGER\n",
       "3195    FINGER\n",
       "3196    FINGER\n",
       "Name: Region, Length: 3197, dtype: object"
      ]
     },
     "execution_count": 33,
     "metadata": {},
     "output_type": "execute_result"
    }
   ],
   "source": [
    "y_test = df_test[\"Region\"]\n",
    "y_test"
   ]
  },
  {
   "cell_type": "code",
   "execution_count": 41,
   "metadata": {},
   "outputs": [],
   "source": [
    "labelencoder_y = LabelEncoder()\n",
    "y_valid = labelencoder_y.fit_transform(y_valid)\n",
    "y_valid = np.reshape(y_valid,(y_valid.shape[0],1))"
   ]
  },
  {
   "cell_type": "code",
   "execution_count": 42,
   "metadata": {},
   "outputs": [],
   "source": [
    "labelencoder_y = LabelEncoder()\n",
    "y_test = labelencoder_y.fit_transform(y_test)\n",
    "y_test = np.reshape(y_test,(y_test.shape[0],1))"
   ]
  },
  {
   "cell_type": "code",
   "execution_count": null,
   "metadata": {},
   "outputs": [
    {
     "name": "stderr",
     "output_type": "stream",
     "text": [
      "/Library/Frameworks/Python.framework/Versions/3.7/lib/python3.7/site-packages/sklearn/linear_model/logistic.py:432: FutureWarning: Default solver will be changed to 'lbfgs' in 0.22. Specify a solver to silence this warning.\n",
      "  FutureWarning)\n",
      "/Library/Frameworks/Python.framework/Versions/3.7/lib/python3.7/site-packages/sklearn/utils/validation.py:724: DataConversionWarning: A column-vector y was passed when a 1d array was expected. Please change the shape of y to (n_samples, ), for example using ravel().\n",
      "  y = column_or_1d(y, warn=True)\n",
      "/Library/Frameworks/Python.framework/Versions/3.7/lib/python3.7/site-packages/sklearn/linear_model/logistic.py:469: FutureWarning: Default multi_class will be changed to 'auto' in 0.22. Specify the multi_class option to silence this warning.\n",
      "  \"this warning.\", FutureWarning)\n"
     ]
    }
   ],
   "source": [
    "from sklearn.linear_model import LogisticRegression\n",
    "LogReg = LogisticRegression()\n",
    "\n",
    "LogReg.fit(X_train_flatten,y_train)"
   ]
  },
  {
   "cell_type": "code",
   "execution_count": null,
   "metadata": {},
   "outputs": [],
   "source": [
    "y_pred = LogReg.predict(X_test_flatten)\n",
    "\n"
   ]
  },
  {
   "cell_type": "code",
   "execution_count": null,
   "metadata": {},
   "outputs": [],
   "source": [
    "from sklearn.metrics import confusion_matrix\n",
    "print(\"Confusion Matrix on testing set is :\\n\")\n",
    "cm = confusion_matrix(y_test,y_pred)\n",
    "print(cm)"
   ]
  },
  {
   "cell_type": "code",
   "execution_count": null,
   "metadata": {},
   "outputs": [],
   "source": [
    "from sklearn import metrics\n",
    "print(\"Accuracy:\",metrics.accuracy_score(y_test,y_pred))\n",
    "print(\"Error:\",1-metrics.accuracy_score(y_test,y_pred))\n",
    "print(\"Precision:\",metrics.precision_score(y_test,y_pred))\n",
    "print(\"Recall:\",metrics.recall_score(y_test,y_pred))\n",
    "print(\"F1 score:\",metrics.f1_score(y_test,y_pred))\n"
   ]
  },
  {
   "cell_type": "code",
   "execution_count": null,
   "metadata": {},
   "outputs": [],
   "source": [
    "LogReg.score(X_test_flatten,y_test)"
   ]
  },
  {
   "cell_type": "code",
   "execution_count": null,
   "metadata": {},
   "outputs": [],
   "source": [
    "## LDA\n",
    "from sklearn.discriminant_analysis import LinearDiscriminantAnalysis\n",
    "LDA_classifier = LinearDiscriminantAnalysis()\n",
    "LDA_classifier.fit(X_train_flatten,y_train)  "
   ]
  },
  {
   "cell_type": "code",
   "execution_count": null,
   "metadata": {},
   "outputs": [],
   "source": [
    "y_pred_LDA_train = LDA_classifier.predict(X_train_flatten)"
   ]
  },
  {
   "cell_type": "code",
   "execution_count": null,
   "metadata": {},
   "outputs": [],
   "source": [
    "accuracy_LDA_classifier_train = metrics.accuracy_score(y_train,y_pred_LDA_train)\n",
    "error_LDA_classifier_train = 1- accuracy_LDA_classifier_train\n",
    "print(\"Accuracy on LDA as classifier for training:\", accuracy_LDA_classifier_train)\n",
    "print(\"Error on LDA as classifier for training:\", error_LDA_classifier_train)\n",
    "\n",
    "\n"
   ]
  },
  {
   "cell_type": "code",
   "execution_count": null,
   "metadata": {},
   "outputs": [],
   "source": [
    "y_pred_LDA_test = LDA_classifier.predict(X_test_flatten)\n",
    "accuracy_LDA_classifier_test = metrics.accuracy_score(y_test,y_pred_LDA_test)\n",
    "error_LDA_classifier_test = 1- accuracy_LDA_classifier_test\n",
    "\n",
    "print(\"Accuracy on LDA as classifier for test:\", accuracy_LDA_classifier_test)\n",
    "print(\"Error on LDA as classifier for test:\", error_LDA_classifier_test)"
   ]
  },
  {
   "cell_type": "code",
   "execution_count": null,
   "metadata": {},
   "outputs": [],
   "source": [
    "## Decision Tree\n",
    "from sklearn.tree import DecisionTreeClassifier\n",
    "DT_classifier = DecisionTreeClassifier()\n",
    "DT_classifier.fit(X_train_flatten,y_train)"
   ]
  },
  {
   "cell_type": "code",
   "execution_count": null,
   "metadata": {},
   "outputs": [],
   "source": [
    "y_pred_DT_train = DT_classifier.predict(X_train_flatten)\n",
    "accuracy_DT_classifier_train = metrics.accuracy_score(y_train,y_pred_DT_train)\n",
    "error_DT_classifier_train = 1- accuracy_DT_classifier_train\n",
    "\n",
    "print(\"Accuracy on decision tree as classifier for training:\", accuracy_DT_classifier_train)\n",
    "print(\"Error on decision tree as classifier for training:\", error_DT_classifier_train)\n",
    "\n"
   ]
  },
  {
   "cell_type": "code",
   "execution_count": null,
   "metadata": {},
   "outputs": [],
   "source": [
    "y_pred_DT_test = DT_classifier.predict(X_test_flatten)\n",
    "accuracy_DT_classifier_test = metrics.accuracy_score(y_test,y_pred_DT_test)\n",
    "error_DT_classifier_test = 1- accuracy_DT_classifier_test\n",
    "\n",
    "print(\"Accuracy on decision tree as classifier for test:\", accuracy_DT_classifier_test)\n",
    "print(\"Error on decision tree as classifier for test:\", error_DT_classifier_test)"
   ]
  },
  {
   "cell_type": "code",
   "execution_count": null,
   "metadata": {},
   "outputs": [],
   "source": [
    "from sklearn.tree import DecisionTreeClassifier\n",
    "DT_classifier1 = DecisionTreeClassifier(criterion=\"entropy\",max_depth=5)\n",
    "DT_classifier1.fit(X_train_flatten,y_train)"
   ]
  },
  {
   "cell_type": "code",
   "execution_count": null,
   "metadata": {},
   "outputs": [],
   "source": [
    "y_pred_DT_train1 = DT_classifier1.predict(X_train_flatten)\n",
    "accuracy_DT_classifier_train = metrics.accuracy_score(y_train,y_pred_DT_train1)\n",
    "error_DT_classifier_train = 1- accuracy_DT_classifier_train\n",
    "\n",
    "print(\"Accuracy on decision tree as classifier for training:\", accuracy_DT_classifier_train)\n",
    "print(\"Error on decision tree as classifier for training:\", error_DT_classifier_train)"
   ]
  },
  {
   "cell_type": "code",
   "execution_count": null,
   "metadata": {},
   "outputs": [],
   "source": [
    "y_pred_DT_test1 = DT_classifier1.predict(X_test_flatten)\n",
    "accuracy_DT_classifier_test = metrics.accuracy_score(y_test,y_pred_DT_test1)\n",
    "error_DT_classifier_test = 1- accuracy_DT_classifier_test\n",
    "\n",
    "print(\"Accuracy on decision tree as classifier for test:\", accuracy_DT_classifier_test)\n",
    "print(\"Error on decision tree as classifier for test:\", error_DT_classifier_test)"
   ]
  },
  {
   "cell_type": "code",
   "execution_count": null,
   "metadata": {},
   "outputs": [],
   "source": [
    "#Plotting DT\n",
    "from sklearn.tree import export_graphviz\n",
    "from sklearn.externals.six import StringIO  \n",
    "from IPython.display import Image  \n",
    "import pydotplus"
   ]
  },
  {
   "cell_type": "code",
   "execution_count": null,
   "metadata": {},
   "outputs": [],
   "source": [
    "dot_data = StringIO()\n",
    "export_graphviz(DT_classifier1, out_file=dot_data,  \n",
    "                filled=True, rounded=True,\n",
    "                special_characters=True,class_names=['0','1','2','3','4','5','6'])\n",
    "graph = pydotplus.graph_from_dot_data(dot_data.getvalue())  \n",
    "graph.write_png('d.png')\n",
    "Image(graph.create_png())"
   ]
  },
  {
   "cell_type": "code",
   "execution_count": null,
   "metadata": {},
   "outputs": [],
   "source": [
    "# Random forest\n",
    "from sklearn.ensemble import RandomForestClassifier\n",
    "rf = RandomForestClassifier(n_estimators=10)\n",
    "rf.fit(X_train_flatten,y_train)"
   ]
  },
  {
   "cell_type": "code",
   "execution_count": null,
   "metadata": {},
   "outputs": [],
   "source": [
    "y_pred_rf_train = rf.predict(X_train_flatten)"
   ]
  },
  {
   "cell_type": "code",
   "execution_count": null,
   "metadata": {},
   "outputs": [],
   "source": [
    "y_pred_rf_valid = rf.predict(X_valid_flatten)"
   ]
  },
  {
   "cell_type": "code",
   "execution_count": null,
   "metadata": {},
   "outputs": [],
   "source": [
    "y_pred_rf_test = rf.predict(X_test_flatten)"
   ]
  },
  {
   "cell_type": "code",
   "execution_count": null,
   "metadata": {},
   "outputs": [],
   "source": [
    "from sklearn import metrics\n",
    "accuracy_rf_classifier_train = metrics.accuracy_score(y_train,y_pred_rf_train)\n",
    "error_rf_classifier_train = 1- accuracy_rf_classifier_train\n",
    "print(\"Accuracy on RF as classifier for training:\", accuracy_rf_classifier_train)\n",
    "print(\"Error on RF as classifier for training:\", error_rf_classifier_train)"
   ]
  },
  {
   "cell_type": "code",
   "execution_count": null,
   "metadata": {},
   "outputs": [],
   "source": [
    "y_pred_rf_valid = rf.predict(X_valid_flatten)\n",
    "accuracy_rf_classifier_valid = metrics.accuracy_score(y_valid,y_pred_rf_valid)\n",
    "error_rf_classifier_valid = 1- accuracy_rf_classifier_valid\n",
    "\n",
    "print(\"Accuracy on RF as classifier for valid:\", accuracy_rf_classifier_valid)\n",
    "print(\"Error on RF as classifier for valid:\", error_rf_classifier_valid)"
   ]
  },
  {
   "cell_type": "code",
   "execution_count": null,
   "metadata": {},
   "outputs": [],
   "source": [
    "y_pred_rf_test = rf.predict(X_test_flatten)\n",
    "accuracy_rf_classifier_test = metrics.accuracy_score(y_test,y_pred_rf_test)\n",
    "error_rf_classifier_test = 1- accuracy_rf_classifier_test\n",
    "\n",
    "print(\"Accuracy on RF as classifier for test:\", accuracy_rf_classifier_test)\n",
    "print(\"Error on RF as classifier for test:\", error_rf_classifier_test)"
   ]
  },
  {
   "cell_type": "code",
   "execution_count": null,
   "metadata": {},
   "outputs": [],
   "source": [
    "from mlxtend.evaluate import confusion_matrix\n",
    "cm = confusion_matrix(y_target=a[0], \n",
    "                      y_predicted=b[0], \n",
    "                      binary=False)"
   ]
  },
  {
   "cell_type": "code",
   "execution_count": null,
   "metadata": {},
   "outputs": [],
   "source": [
    "y_valid=np.reshape(y_valid,(1,y_valid.shape[0]))\n",
    "y_test=np.reshape(y_test,(1,y_test.shape[0]))\n",
    "# y_test = y_test.tolist()\n",
    "# y_test=np.array(y_test)\n",
    "#y_pred_rf_test"
   ]
  },
  {
   "cell_type": "code",
   "execution_count": null,
   "metadata": {},
   "outputs": [],
   "source": [
    "y_pred_rf_valid=np.reshape(y_pred_rf_valid,(1,y_pred_rf_valid.shape[0]))\n",
    "y_pred_rf_test=np.reshape(y_pred_rf_test,(1,y_pred_rf_test.shape[0]))"
   ]
  },
  {
   "cell_type": "code",
   "execution_count": null,
   "metadata": {},
   "outputs": [],
   "source": [
    "a = y_valid.tolist()"
   ]
  },
  {
   "cell_type": "code",
   "execution_count": null,
   "metadata": {},
   "outputs": [],
   "source": [
    "b = y_pred_rf_valid.tolist()"
   ]
  },
  {
   "cell_type": "code",
   "execution_count": null,
   "metadata": {},
   "outputs": [],
   "source": [
    "from sklearn.metrics import multilabel_confusion_matrix\n",
    "multilabel_confusion_matrix(y_true=a[0], \n",
    "                      y_pred=b[0], \n",
    "                      labels=[0,1,2,3,4,5,6])\n"
   ]
  },
  {
   "cell_type": "code",
   "execution_count": null,
   "metadata": {},
   "outputs": [],
   "source": [
    "cm"
   ]
  },
  {
   "cell_type": "code",
   "execution_count": null,
   "metadata": {},
   "outputs": [],
   "source": [
    "cm\n",
    "recall = np.diag(cm) / np.sum(cm, axis = 1)\n",
    "precision = np.diag(cm) / np.sum(cm, axis = 0)\n",
    "print(\"Precision for ELBOW:\", precision[0])\n",
    "print(\"Precision for FINGER:\", precision[1])\n",
    "print(\"Precision for FOREARM:\", precision[2])\n",
    "print(\"Precision for HAND:\", precision[3])\n",
    "print(\"Precision for HUMERUS:\", precision[4])\n",
    "print(\"Precision for SHOULDER:\", precision[5])\n",
    "print(\"Precision for WRIST:\", precision[6],\"\\n\")\n",
    "print(\"Recall for ELBOW:\", recall[0])\n",
    "print(\"Recall for FINGER:\", recall[1])\n",
    "print(\"Recall for FOREARM:\", recall[2])\n",
    "print(\"Recall for HAND:\", recall[3])\n",
    "print(\"Recall for HUMERUS:\", recall[4])\n",
    "print(\"Recall for SHOULDER:\", recall[5])\n",
    "print(\"Recall for WRIST:\", recall[6],\"\\n\")\n",
    "print(\"Overall Recall\",np.mean(recall))\n",
    "print(\"Overall Precision\", np.mean(precision))"
   ]
  },
  {
   "cell_type": "code",
   "execution_count": null,
   "metadata": {},
   "outputs": [],
   "source": [
    "import matplotlib.pyplot as plt\n",
    "from mlxtend.evaluate import confusion_matrix\n",
    "from mlxtend.plotting import plot_confusion_matrix\n",
    "fig, ax = plot_confusion_matrix(conf_mat=cm)\n",
    "\n",
    "plt.show()"
   ]
  },
  {
   "cell_type": "code",
   "execution_count": null,
   "metadata": {},
   "outputs": [],
   "source": [
    "mat = np.matrix('456 0 5 0 1 3 0; 0 441 3 14 0 1 2; 27 0 255 0 1 2 16; 0 6 0 444 0 0 10; 9 0 6 1 262 10 0; 3 0 0 0 1 559 0; 1 5 5 8 0 1 639')"
   ]
  },
  {
   "cell_type": "code",
   "execution_count": null,
   "metadata": {},
   "outputs": [],
   "source": [
    "mat=np.array(mat)"
   ]
  },
  {
   "cell_type": "code",
   "execution_count": null,
   "metadata": {},
   "outputs": [],
   "source": [
    "recall = np.diag(mat) / np.sum(mat, axis = 1)\n",
    "precision = np.diag(mat) / np.sum(mat, axis = 0)\n",
    "print(\"Precision for ELBOW:\", precision[0])\n",
    "print(\"Precision for FINGER:\", precision[1])\n",
    "print(\"Precision for FOREARM:\", precision[2])\n",
    "print(\"Precision for HAND:\", precision[3])\n",
    "print(\"Precision for HUMERUS:\", precision[4])\n",
    "print(\"Precision for SHOULDER:\", precision[5])\n",
    "print(\"Precision for WRIST:\", precision[6],\"\\n\")\n",
    "print(\"Recall for ELBOW:\", recall[0])\n",
    "print(\"Recall for FINGER:\", recall[1])\n",
    "print(\"Recall for FOREARM:\", recall[2])\n",
    "print(\"Recall for HAND:\", recall[3])\n",
    "print(\"Recall for HUMERUS:\", recall[4])\n",
    "print(\"Recall for SHOULDER:\", recall[5])\n",
    "print(\"Recall for WRIST:\", recall[6],\"\\n\")\n",
    "print(\"Overall Recall\",np.mean(recall))\n",
    "print(\"Overall Precision\", np.mean(precision))"
   ]
  },
  {
   "cell_type": "code",
   "execution_count": null,
   "metadata": {},
   "outputs": [],
   "source": [
    "## Bagging\n",
    "from sklearn.ensemble import BaggingClassifier\n",
    "bg = BaggingClassifier(DecisionTreeClassifier(), max_samples=0.5, max_features=1.0, n_estimators=20)\n",
    "bg.fit(X_train_flatten,y_train)"
   ]
  },
  {
   "cell_type": "code",
   "execution_count": null,
   "metadata": {},
   "outputs": [],
   "source": [
    "bg.score(X_test,y_test)"
   ]
  }
 ],
 "metadata": {
  "kernelspec": {
   "display_name": "Python 3",
   "language": "python",
   "name": "python3"
  },
  "language_info": {
   "codemirror_mode": {
    "name": "ipython",
    "version": 3
   },
   "file_extension": ".py",
   "mimetype": "text/x-python",
   "name": "python",
   "nbconvert_exporter": "python",
   "pygments_lexer": "ipython3",
   "version": "3.7.4"
  }
 },
 "nbformat": 4,
 "nbformat_minor": 2
}

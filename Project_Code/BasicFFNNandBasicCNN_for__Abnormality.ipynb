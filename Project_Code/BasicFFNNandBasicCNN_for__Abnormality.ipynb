{
  "nbformat": 4,
  "nbformat_minor": 0,
  "metadata": {
    "colab": {
      "name": "BasicFFNNandBasicCNN_for _Abnormality.ipynb",
      "provenance": []
    },
    "kernelspec": {
      "name": "python3",
      "display_name": "Python 3"
    }
  },
  "cells": [
    {
      "cell_type": "code",
      "metadata": {
        "id": "FnWfPdkjsoQL",
        "colab_type": "code",
        "colab": {}
      },
      "source": [
        "from google.colab import drive\n",
        "drive.mount('/content/drive')"
      ],
      "execution_count": 0,
      "outputs": []
    },
    {
      "cell_type": "code",
      "metadata": {
        "id": "nKVX9GKxsqwK",
        "colab_type": "code",
        "colab": {}
      },
      "source": [
        "import zipfile\n",
        "\n",
        "\n",
        "zip_ref = zipfile.ZipFile(\"/content/drive/My Drive/Colab Notebooks/MURA-v1.1.zip\", 'r')\n",
        "zip_ref.extractall(\"/tmp/SML\")\n",
        "zip_ref.close()"
      ],
      "execution_count": 0,
      "outputs": []
    },
    {
      "cell_type": "code",
      "metadata": {
        "id": "D_fy41GPsscL",
        "colab_type": "code",
        "colab": {}
      },
      "source": [
        "import keras\n",
        "from keras.models import Sequential\n",
        "from keras.layers import Dense, Dropout, Flatten\n",
        "from keras.layers import Conv2D, MaxPooling2D\n",
        "from keras.utils import to_categorical\n",
        "from keras.preprocessing import image\n",
        "import numpy as np\n",
        "import pandas as pd\n",
        "import matplotlib.pyplot as plt\n",
        "from sklearn.model_selection import train_test_split\n",
        "from keras.utils import to_categorical\n",
        "from tqdm import tqdm\n",
        "import cv2\n",
        "from sklearn.preprocessing import LabelEncoder\n",
        "\n",
        "%matplotlib inline\n",
        "np.random.seed(1)"
      ],
      "execution_count": 0,
      "outputs": []
    },
    {
      "cell_type": "code",
      "metadata": {
        "id": "JTbbNvXUsuHj",
        "colab_type": "code",
        "colab": {}
      },
      "source": [
        "df = pd.read_csv(\"/tmp/SML/MURA-v1.1/train_image_paths.csv\",\n",
        "                 names=[\"image_path\"])"
      ],
      "execution_count": 0,
      "outputs": []
    },
    {
      "cell_type": "code",
      "metadata": {
        "id": "mJvqwVlRsvv2",
        "colab_type": "code",
        "colab": {}
      },
      "source": [
        "df['Region'] = df[\"image_path\"].map(lambda x: x.split('/')[-4])\n",
        "df[\"Region\"] = df[\"Region\"].map(lambda x: x.split('XR_')[-1])\n",
        "df[\"Label\"] = df[\"image_path\"].map(lambda x: x.split('/')[-2])\n",
        "df[\"Label\"] = df[\"Label\"].map(lambda x: x.split('_')[-1])\n",
        "df"
      ],
      "execution_count": 0,
      "outputs": []
    },
    {
      "cell_type": "code",
      "metadata": {
        "id": "xajcFEGFsxfX",
        "colab_type": "code",
        "colab": {}
      },
      "source": [
        "X = df[\"image_path\"]\n",
        "y = df[\"Region\"]"
      ],
      "execution_count": 0,
      "outputs": []
    },
    {
      "cell_type": "code",
      "metadata": {
        "id": "jxsvKNdKszgP",
        "colab_type": "code",
        "colab": {}
      },
      "source": [
        "X_train_path, X_test_path, y_train, y_test = train_test_split(X, y, test_size = 0.25,stratify=y, random_state = 57)"
      ],
      "execution_count": 0,
      "outputs": []
    },
    {
      "cell_type": "code",
      "metadata": {
        "id": "R5IeICW1s1xW",
        "colab_type": "code",
        "colab": {}
      },
      "source": [
        "X_train = list()\n",
        "clahe = cv2.createCLAHE(clipLimit=2.0, tileGridSize=(8,8))\n",
        "for path in X_train_path:\n",
        "    npath = \"/tmp/SML/\"+path\n",
        "    image = cv2.imread(npath,0)\n",
        "    # image = cv2.equalizeHist(image)\n",
        "    image = clahe.apply(image) \n",
        "    X_train.append(cv2.resize(image,(100,100)))\n",
        "\n",
        "X_train = np.array(X_train)\n",
        "#X_train = X_train.astype('float32')/255\n",
        "\n",
        "print('X_train_orig shape:', X_train.shape)"
      ],
      "execution_count": 0,
      "outputs": []
    },
    {
      "cell_type": "code",
      "metadata": {
        "id": "5jTfMpwqXdst",
        "colab_type": "code",
        "colab": {}
      },
      "source": [
        "X_train = np.reshape(X_train,(X_train.shape[0],X_train.shape[1], X_train.shape[2],1))"
      ],
      "execution_count": 0,
      "outputs": []
    },
    {
      "cell_type": "code",
      "metadata": {
        "id": "y_k6xs8Dtlga",
        "colab_type": "code",
        "colab": {}
      },
      "source": [
        "X_test = np.reshape(X_test,(X_test.shape[0],X_test.shape[1], X_test.shape[2],1))"
      ],
      "execution_count": 0,
      "outputs": []
    },
    {
      "cell_type": "code",
      "metadata": {
        "id": "Wo2CVmKBs7zC",
        "colab_type": "code",
        "colab": {}
      },
      "source": [
        "X_valid = list()\n",
        "for path in X_valid_path:\n",
        "    npath = \"/tmp/SML/\"+path\n",
        "    image = cv2.imread(npath,0)\n",
        "    #image = cv2.equalizeHist(image)\n",
        "    image = clahe.apply(image)   \n",
        "    X_valid.append(cv2.resize(image,(100,100)))\n",
        "X_valid = np.array(X_valid)\n",
        "#X_test = X_test.astype('float32')/255\n",
        "print('X_valid_orig shape:', X_valid.shape)"
      ],
      "execution_count": 0,
      "outputs": []
    },
    {
      "cell_type": "code",
      "metadata": {
        "id": "V5MqDIWPts3t",
        "colab_type": "code",
        "colab": {}
      },
      "source": [
        "X_train = X_train_orig/255.\n",
        "X_test = X_test_orig/255"
      ],
      "execution_count": 0,
      "outputs": []
    },
    {
      "cell_type": "code",
      "metadata": {
        "id": "A7zMkEn9tvF6",
        "colab_type": "code",
        "colab": {}
      },
      "source": [
        "labelencoder_y = LabelEncoder()\n",
        "y_train = labelencoder_y.fit_transform(y_train)\n",
        "y_test = labelencoder_y.fit_transform(y_test)"
      ],
      "execution_count": 0,
      "outputs": []
    },
    {
      "cell_type": "code",
      "metadata": {
        "id": "-LGGJrHKtxE2",
        "colab_type": "code",
        "colab": {}
      },
      "source": [
        "#CONV MODEL 1\n",
        "\n",
        "model = Sequential()\n",
        "model.add(Conv2D(32, kernel_size=(3, 3),activation='relu',input_shape=(224,224,1)))\n",
        "model.add(Conv2D(64, (3, 3), activation='relu'))\n",
        "model.add(MaxPooling2D(pool_size=(2, 2)))\n",
        "model.add(Dropout(0.25))\n",
        "model.add(Flatten())\n",
        "model.add(Dense(128, activation='relu'))\n",
        "model.add(Dropout(0.5))\n",
        "model.add(Dense(7, activation='softmax'))\n",
        "\n",
        "model.compile(loss='categorical_crossentropy',optimizer='Adam',metrics=['accuracy'])\n",
        "model.fit(X_train, y_train, epochs=20, validation_data=(X_test, y_test))"
      ],
      "execution_count": 0,
      "outputs": []
    },
    {
      "cell_type": "code",
      "metadata": {
        "id": "AJ7WTNjft51a",
        "colab_type": "code",
        "colab": {}
      },
      "source": [
        "score = model.evaluate(X_test, y_test, verbose=1)\n",
        "print (\"Loss = \" + str(score[0]))\n",
        "print (\"Test Accuracy = \" + str(score[1]))"
      ],
      "execution_count": 0,
      "outputs": []
    },
    {
      "cell_type": "code",
      "metadata": {
        "id": "sfkG0CqEt8hF",
        "colab_type": "code",
        "colab": {}
      },
      "source": [
        "#CONV MODEL 2\n",
        "\n",
        "model = Sequential()\n",
        "model.add(Conv2D(filters=16, kernel_size=(5, 5), activation=\"relu\", input_shape=(100,100,1)))\n",
        "model.add(MaxPooling2D(pool_size=(2, 2)))\n",
        "model.add(Dropout(0.25))\n",
        "model.add(Conv2D(filters=32, kernel_size=(5, 5), activation='relu'))\n",
        "model.add(MaxPooling2D(pool_size=(2, 2)))\n",
        "model.add(Dropout(0.25))\n",
        "model.add(Conv2D(filters=64, kernel_size=(5, 5), activation=\"relu\"))\n",
        "model.add(MaxPooling2D(pool_size=(2, 2)))\n",
        "model.add(Dropout(0.25))\n",
        "model.add(Flatten())\n",
        "model.add(Dense(128, activation='relu'))\n",
        "model.add(Dropout(0.5))\n",
        "model.add(Dense(64, activation='relu'))\n",
        "model.add(Dropout(0.5))\n",
        "model.add(Dense(7, activation='softmax'))\n",
        "\n",
        "model.compile(loss='categorical_crossentropy',optimizer='Adam',metrics=['accuracy'])\n",
        "model.fit(X_train, y_train, epochs=20, validation_data=(X_test, y_test))"
      ],
      "execution_count": 0,
      "outputs": []
    },
    {
      "cell_type": "code",
      "metadata": {
        "id": "3b9DRua7t-8_",
        "colab_type": "code",
        "colab": {}
      },
      "source": [
        "score = model.evaluate(X_test, y_test, verbose=1)\n",
        "print (\"Loss = \" + str(score[0]))\n",
        "print (\"Test Accuracy = \" + str(score[1]))"
      ],
      "execution_count": 0,
      "outputs": []
    },
    {
      "cell_type": "code",
      "metadata": {
        "id": "CTbxUJUsuGSG",
        "colab_type": "code",
        "colab": {}
      },
      "source": [
        "## FFNN model 1\n",
        "model = Sequential()\n",
        "model.add(Dense(1024,  activation=\"relu\", input_shape=(10000,)))\n",
        "model.add(Dropout(0.25))\n",
        "model.add(Dense(512,  activation=\"relu\"))\n",
        "model.add(Dropout(0.25))\n",
        "model.add(Dense(256, activation='relu'))\n",
        "model.add(Dropout(0.25))\n",
        "model.add(Dense(128, activation='relu'))\n",
        "model.add(Dropout(0.25))\n",
        "model.add(Dense(64, activation='relu'))\n",
        "model.add(Dropout(0.5))\n",
        "model.add(Dense(1, activation='sigmoid'))\n",
        "\n",
        "model.compile(loss='categorical_crossentropy',optimizer='Adam',metrics=['accuracy'])\n",
        "model.fit(X_train, y_train, epochs=20, validation_data=(X_test, y_test))"
      ],
      "execution_count": 0,
      "outputs": []
    },
    {
      "cell_type": "code",
      "metadata": {
        "id": "UjYuf66AuTOc",
        "colab_type": "code",
        "colab": {}
      },
      "source": [
        "score = model.evaluate(X_test, y_test, verbose=1)\n",
        "print (\"Loss = \" + str(score[0]))\n",
        "print (\"Test Accuracy = \" + str(score[1]))"
      ],
      "execution_count": 0,
      "outputs": []
    }
  ]
}